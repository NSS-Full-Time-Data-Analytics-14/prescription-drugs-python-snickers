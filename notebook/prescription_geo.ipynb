{
 "cells": [
  {
   "cell_type": "code",
   "execution_count": null,
   "metadata": {},
   "outputs": [],
   "source": [
    "import pandas as pd\n",
    "import geopandas as gpd\n",
    "import matplotlib.pyplot as plt\n",
    "%matplotlib inline"
   ]
  },
  {
   "cell_type": "markdown",
   "metadata": {},
   "source": [
    "First, let's read in our counties shapefiles. This one was obtained from http://www.tngis.org/administrative-boundaries.htm\n",
    "\n",
    "Shapefiles are another type of geospatial data file that you can use to create a GeoDataFrame."
   ]
  },
  {
   "cell_type": "code",
   "execution_count": null,
   "metadata": {},
   "outputs": [],
   "source": [
    "counties = gpd.read_file('../data/county/tncounty.shp')\n",
    "counties"
   ]
  },
  {
   "cell_type": "code",
   "execution_count": null,
   "metadata": {},
   "outputs": [],
   "source": [
    "counties['NAME']=counties['NAME'].str.upper()"
   ]
  },
  {
   "cell_type": "markdown",
   "metadata": {},
   "source": [
    "Remember, if we call `.plot()` and a GeoDataFrame, it will render a plot using the geometry column."
   ]
  },
  {
   "cell_type": "code",
   "execution_count": null,
   "metadata": {},
   "outputs": [],
   "source": [
    "counties.plot();"
   ]
  },
  {
   "cell_type": "markdown",
   "metadata": {},
   "source": [
    "If we want a larger plot, we can use `plt.subplots()` and set a figsize. When we create our plot, we need to specify that we want it to render on the axes we just created."
   ]
  },
  {
   "cell_type": "code",
   "execution_count": null,
   "metadata": {},
   "outputs": [],
   "source": [
    "fig, ax = plt.subplots(figsize=(16,4))\n",
    "counties.plot(ax = ax);"
   ]
  },
  {
   "cell_type": "markdown",
   "metadata": {},
   "source": [
    "Since the axes are not conveying useful information, we can remove them."
   ]
  },
  {
   "cell_type": "code",
   "execution_count": null,
   "metadata": {},
   "outputs": [],
   "source": [
    "fig, ax = plt.subplots(figsize=(16,4))\n",
    "counties.plot(ax = ax)\n",
    "ax.axis('off');"
   ]
  },
  {
   "cell_type": "code",
   "execution_count": null,
   "metadata": {
    "scrolled": true
   },
   "outputs": [],
   "source": [
    "unemploy_overdose = pd.read_csv('../data/unemploy_overdose.csv')\n",
    "\n",
    "unemploy_overdose"
   ]
  },
  {
   "cell_type": "code",
   "execution_count": null,
   "metadata": {},
   "outputs": [],
   "source": [
    "df1=unemploy_overdose.groupby('county').agg({'fipscounty':'min','overdose_deaths':'sum', 'unemployment_rate':'mean','state':'first','fipsstate':'max' })\n",
    "df1"
   ]
  },
  {
   "cell_type": "code",
   "execution_count": null,
   "metadata": {},
   "outputs": [],
   "source": [
    "df1.reset_index(inplace=True)\n",
    "df1"
   ]
  },
  {
   "cell_type": "code",
   "execution_count": null,
   "metadata": {},
   "outputs": [],
   "source": [
    "df1.sort_values(by='unemployment_rate',ascending=False)"
   ]
  },
  {
   "cell_type": "code",
   "execution_count": null,
   "metadata": {},
   "outputs": [],
   "source": [
    "unemploy_overdose['overdose_deaths']=unemploy_overdose.groupby('county')['overdose_deaths'].sum()\n",
    "unemploy_overdose['unemployment_rate']=unemploy_overdose.groupby('county')['unemployment_rate'].mean()\n",
    "unemploy_overdose"
   ]
  },
  {
   "cell_type": "markdown",
   "metadata": {},
   "source": [
    "Now, we can merge the two together. If we put the GeoDataFrame on the left, the result will be a GeoDataFrame."
   ]
  },
  {
   "cell_type": "code",
   "execution_count": null,
   "metadata": {
    "scrolled": true
   },
   "outputs": [],
   "source": [
    "counties_unemp_overdose= pd.merge(left = counties, right = unemploy_overdose, \n",
    "                    left_on = 'NAME', right_on = 'county',how='inner')\n",
    "counties_unemp_overdose.shape"
   ]
  },
  {
   "cell_type": "code",
   "execution_count": null,
   "metadata": {},
   "outputs": [],
   "source": [
    "counties_unemp_overdose_df= pd.merge(left = counties, right = df1 ,\n",
    "                    left_on = 'NAME', right_on = 'county',how='inner')\n",
    "counties_unemp_overdose_df.shape"
   ]
  },
  {
   "cell_type": "code",
   "execution_count": null,
   "metadata": {},
   "outputs": [],
   "source": [
    "fig, ax = plt.subplots(figsize=(16,4))\n",
    "counties_unemp_overdose_df.plot(column = 'unemployment_rate', \n",
    "              cmap = 'GnBu', \n",
    "              edgecolor = 'black', \n",
    "              legend = True,\n",
    "              ax = ax)\n",
    "plt.title('Unemployment Rate by County', fontsize = 14)\n",
    "ax.axis('off');"
   ]
  },
  {
   "cell_type": "code",
   "execution_count": null,
   "metadata": {},
   "outputs": [],
   "source": [
    "fig, ax = plt.subplots(figsize=(10,6))\n",
    "counties_unemp_overdose_df.plot(column = 'unemployment_rate', \n",
    "              cmap = 'Greens', \n",
    "              edgecolor = 'white', \n",
    "              legend = True,\n",
    "              ax = ax)\n",
    "plt.title('Unemployment Rate Vs overdose_deaths by County \\n   \\n color : unemployment , label : overdose_deaths', fontsize = 14)\n",
    "for x, y, label1,label2 in zip(counties_unemp_overdose_df.geometry.centroid.x, \n",
    "                       counties_unemp_overdose_df.geometry.centroid.y, \n",
    "                       counties_unemp_overdose_df['overdose_deaths'],\n",
    "                       counties_unemp_overdose_df['county'].str.lower()):\n",
    "    label = f\" {label2:}\\n{label1}\"\n",
    "    ax.annotate(str(label),xy=(x, y),horizontalalignment='center',fontsize=8,color='black',)\n",
    "    ax.axis('off');\n",
    "    plt.tight_layout()"
   ]
  },
  {
   "cell_type": "code",
   "execution_count": null,
   "metadata": {},
   "outputs": [],
   "source": []
  }
 ],
 "metadata": {
  "kernelspec": {
   "display_name": "Python 3 (ipykernel)",
   "language": "python",
   "name": "python3"
  },
  "language_info": {
   "codemirror_mode": {
    "name": "ipython",
    "version": 3
   },
   "file_extension": ".py",
   "mimetype": "text/x-python",
   "name": "python",
   "nbconvert_exporter": "python",
   "pygments_lexer": "ipython3",
   "version": "3.10.15"
  }
 },
 "nbformat": 4,
 "nbformat_minor": 4
}
